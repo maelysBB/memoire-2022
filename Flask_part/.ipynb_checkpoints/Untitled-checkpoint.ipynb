{
 "cells": [
  {
   "cell_type": "code",
   "execution_count": 3,
   "id": "f40f8626",
   "metadata": {},
   "outputs": [],
   "source": [
    "import folium"
   ]
  },
  {
   "cell_type": "code",
   "execution_count": 1,
   "id": "80b321ec",
   "metadata": {
    "scrolled": true
   },
   "outputs": [
    {
     "name": "stdout",
     "output_type": "stream",
     "text": [
      "POLYGON ((2.158304385457194 48.80996675295001, 2.1581279328423206 48.8114093869815, 2.157602339536588 48.81281469746067, 2.1567411913220083 48.81414628295651, 2.1555667705046524 48.815369648918725, 2.1541094809760755 48.81645310180788, 2.1524070621077174 48.81736857086814, 2.1505036116996794 48.81809233616397, 2.1484484432495963 48.8186056439198, 2.1462948072014716 48.8188951931223, 2.1440985094537544 48.81895348069066, 2.141916463146976 48.81877899620507, 2.13980521153458 48.81837626110847, 2.137819460514268 48.8177557113577, 2.136010659138668 48.816933426588754, 2.134425665140918 48.81593071286721, 2.133105530240345 48.81477354991217, 2.1320844368016463 48.813491917209745, 2.1313888133998757 48.812119016574414, 2.1310366521075963 48.81069041139551, 2.131037045003085 48.80924310494852, 2.131389951646747 48.80781458170578, 2.132086203243446 48.806441836509315, 2.1331077430623293 48.80516041674959, 2.134428096583714 48.80400350232352, 2.1360130589408843 48.80300104713682, 2.1378215816711776 48.80217900429837, 2.139806835721605 48.801558654972524, 2.141917423191213 48.80115605816613, 2.144098706540608 48.800981635602206, 2.1462942210453573 48.80103990235026, 2.1484471341818803 48.80132935013347, 2.150501714458941 48.80184248630982, 2.1524047719714905 48.802566027526176, 2.1541070336614876 48.8034812430708, 2.1555644179067386 48.8045644391018, 2.156739175586878 48.805787571301025, 2.1576008681380294 48.80711897018957, 2.1581271572271286 48.808524160424085, 2.158304385457194 48.80996675295001))\n"
     ]
    }
   ],
   "source": [
    "# from elasticsearch import Elasticsearch\n",
    "import requests\n",
    "\n",
    "\n",
    "url = \"http://localhost:9200/area1/_search\"\n",
    "\n",
    "\n",
    "data1 = {\n",
    "  \"query\": {\n",
    "    \"terms\": {\n",
    "      \"_id\": [ \"10127\"] \n",
    "    }\n",
    "  }\n",
    "}\n",
    "\n",
    "response  = requests.get(url, json = data1)\n",
    "\n",
    "polygon = response.json()[\"hits\"][\"hits\"][0]['_source'][\"polygon\"]\n",
    "\n",
    "print(polygon)\n",
    "# es.indices.put_settings(index=\"area1\", body={\n",
    "#     \"index.mapping.total_fields.limit\": 100000\n",
    "# })"
   ]
  },
  {
   "cell_type": "code",
   "execution_count": 4,
   "id": "a674670b",
   "metadata": {},
   "outputs": [],
   "source": [
    "start_coords = (48.0, 2.7360300)\n",
    "folium_map = folium.Map(location=start_coords, zoom_start=14)\n",
    "    "
   ]
  },
  {
   "cell_type": "code",
   "execution_count": 8,
   "id": "e413b2a9",
   "metadata": {},
   "outputs": [
    {
     "name": "stdout",
     "output_type": "stream",
     "text": [
      "Collecting shapely\n",
      "  Downloading Shapely-1.8.4-cp38-cp38-manylinux_2_12_x86_64.manylinux2010_x86_64.whl (2.1 MB)\n",
      "\u001b[K     |████████████████████████████████| 2.1 MB 2.4 MB/s eta 0:00:01 2.4 MB/s eta 0:00:01��                  | 870 kB 2.4 MB/s eta 0:00:01��██          | 1.4 MB 2.4 MB/s eta 0:00:01��██████████████████████| 2.1 MB 2.4 MB/s eta 0:00:01\n",
      "\u001b[?25hInstalling collected packages: shapely\n",
      "Successfully installed shapely-1.8.4\n",
      "\u001b[33mWARNING: You are using pip version 21.1.1; however, version 22.2.2 is available.\n",
      "You should consider upgrading via the '/home/maelys/.pyenv/versions/3.8.12/envs/memoire/bin/python3.8 -m pip install --upgrade pip' command.\u001b[0m\n",
      "Note: you may need to restart the kernel to use updated packages.\n"
     ]
    }
   ],
   "source": [
    "pip install shapely"
   ]
  },
  {
   "cell_type": "code",
   "execution_count": 21,
   "id": "53e94781",
   "metadata": {},
   "outputs": [
    {
     "name": "stdout",
     "output_type": "stream",
     "text": [
      "POLYGON ((51 3, 51.3 3.61, 51.3 3, 51 3))\n"
     ]
    }
   ],
   "source": [
    "import shapely.wkt\n",
    "\n",
    "P = shapely.wkt.loads('POLYGON ((51.0 3.0, 51.3 3.61, 51.3 3.0, 51.0 3.0))')\n",
    "print(P[0])"
   ]
  },
  {
   "cell_type": "code",
   "execution_count": 16,
   "id": "ac223cb9",
   "metadata": {},
   "outputs": [
    {
     "ename": "TypeError",
     "evalue": "Locations should be an iterable with coordinate pairs, but instead got <shapely.geometry.polygon.Polygon object at 0x7f0ff8b4ed90>.",
     "output_type": "error",
     "traceback": [
      "\u001b[0;31m---------------------------------------------------------------------------\u001b[0m",
      "\u001b[0;31mTypeError\u001b[0m                                 Traceback (most recent call last)",
      "File \u001b[0;32m~/.pyenv/versions/3.8.12/envs/memoire/lib/python3.8/site-packages/folium/utilities.py:80\u001b[0m, in \u001b[0;36mvalidate_locations\u001b[0;34m(locations)\u001b[0m\n\u001b[1;32m     79\u001b[0m \u001b[38;5;28;01mtry\u001b[39;00m:\n\u001b[0;32m---> 80\u001b[0m     \u001b[38;5;28;43miter\u001b[39;49m\u001b[43m(\u001b[49m\u001b[43mlocations\u001b[49m\u001b[43m)\u001b[49m\n\u001b[1;32m     81\u001b[0m \u001b[38;5;28;01mexcept\u001b[39;00m \u001b[38;5;167;01mTypeError\u001b[39;00m:\n",
      "\u001b[0;31mTypeError\u001b[0m: 'Polygon' object is not iterable",
      "\nDuring handling of the above exception, another exception occurred:\n",
      "\u001b[0;31mTypeError\u001b[0m                                 Traceback (most recent call last)",
      "Cell \u001b[0;32mIn [16], line 1\u001b[0m\n\u001b[0;32m----> 1\u001b[0m folium\u001b[38;5;241m.\u001b[39mPolygon(P)\n",
      "File \u001b[0;32m~/.pyenv/versions/3.8.12/envs/memoire/lib/python3.8/site-packages/folium/vector_layers.py:193\u001b[0m, in \u001b[0;36mPolygon.__init__\u001b[0;34m(self, locations, popup, tooltip, **kwargs)\u001b[0m\n\u001b[1;32m    192\u001b[0m \u001b[38;5;28;01mdef\u001b[39;00m \u001b[38;5;21m__init__\u001b[39m(\u001b[38;5;28mself\u001b[39m, locations, popup\u001b[38;5;241m=\u001b[39m\u001b[38;5;28;01mNone\u001b[39;00m, tooltip\u001b[38;5;241m=\u001b[39m\u001b[38;5;28;01mNone\u001b[39;00m, \u001b[38;5;241m*\u001b[39m\u001b[38;5;241m*\u001b[39mkwargs):\n\u001b[0;32m--> 193\u001b[0m     \u001b[38;5;28;43msuper\u001b[39;49m\u001b[43m(\u001b[49m\u001b[43mPolygon\u001b[49m\u001b[43m,\u001b[49m\u001b[43m \u001b[49m\u001b[38;5;28;43mself\u001b[39;49m\u001b[43m)\u001b[49m\u001b[38;5;241;43m.\u001b[39;49m\u001b[38;5;21;43m__init__\u001b[39;49m\u001b[43m(\u001b[49m\u001b[43mlocations\u001b[49m\u001b[43m,\u001b[49m\u001b[43m \u001b[49m\u001b[43mpopup\u001b[49m\u001b[38;5;241;43m=\u001b[39;49m\u001b[43mpopup\u001b[49m\u001b[43m,\u001b[49m\u001b[43m \u001b[49m\u001b[43mtooltip\u001b[49m\u001b[38;5;241;43m=\u001b[39;49m\u001b[43mtooltip\u001b[49m\u001b[43m)\u001b[49m\n\u001b[1;32m    194\u001b[0m     \u001b[38;5;28mself\u001b[39m\u001b[38;5;241m.\u001b[39m_name \u001b[38;5;241m=\u001b[39m \u001b[38;5;124m'\u001b[39m\u001b[38;5;124mPolygon\u001b[39m\u001b[38;5;124m'\u001b[39m\n\u001b[1;32m    195\u001b[0m     \u001b[38;5;28mself\u001b[39m\u001b[38;5;241m.\u001b[39moptions \u001b[38;5;241m=\u001b[39m path_options(line\u001b[38;5;241m=\u001b[39m\u001b[38;5;28;01mTrue\u001b[39;00m, \u001b[38;5;241m*\u001b[39m\u001b[38;5;241m*\u001b[39mkwargs)\n",
      "File \u001b[0;32m~/.pyenv/versions/3.8.12/envs/memoire/lib/python3.8/site-packages/folium/vector_layers.py:111\u001b[0m, in \u001b[0;36mBaseMultiLocation.__init__\u001b[0;34m(self, locations, popup, tooltip)\u001b[0m\n\u001b[1;32m    109\u001b[0m \u001b[38;5;28;01mdef\u001b[39;00m \u001b[38;5;21m__init__\u001b[39m(\u001b[38;5;28mself\u001b[39m, locations, popup\u001b[38;5;241m=\u001b[39m\u001b[38;5;28;01mNone\u001b[39;00m, tooltip\u001b[38;5;241m=\u001b[39m\u001b[38;5;28;01mNone\u001b[39;00m):\n\u001b[1;32m    110\u001b[0m     \u001b[38;5;28msuper\u001b[39m(BaseMultiLocation, \u001b[38;5;28mself\u001b[39m)\u001b[38;5;241m.\u001b[39m\u001b[38;5;21m__init__\u001b[39m()\n\u001b[0;32m--> 111\u001b[0m     \u001b[38;5;28mself\u001b[39m\u001b[38;5;241m.\u001b[39mlocations \u001b[38;5;241m=\u001b[39m \u001b[43mvalidate_locations\u001b[49m\u001b[43m(\u001b[49m\u001b[43mlocations\u001b[49m\u001b[43m)\u001b[49m\n\u001b[1;32m    112\u001b[0m     \u001b[38;5;28;01mif\u001b[39;00m popup \u001b[38;5;129;01mis\u001b[39;00m \u001b[38;5;129;01mnot\u001b[39;00m \u001b[38;5;28;01mNone\u001b[39;00m:\n\u001b[1;32m    113\u001b[0m         \u001b[38;5;28mself\u001b[39m\u001b[38;5;241m.\u001b[39madd_child(popup \u001b[38;5;28;01mif\u001b[39;00m \u001b[38;5;28misinstance\u001b[39m(popup, Popup)\n\u001b[1;32m    114\u001b[0m                        \u001b[38;5;28;01melse\u001b[39;00m Popup(\u001b[38;5;28mstr\u001b[39m(popup)))\n",
      "File \u001b[0;32m~/.pyenv/versions/3.8.12/envs/memoire/lib/python3.8/site-packages/folium/utilities.py:82\u001b[0m, in \u001b[0;36mvalidate_locations\u001b[0;34m(locations)\u001b[0m\n\u001b[1;32m     80\u001b[0m     \u001b[38;5;28miter\u001b[39m(locations)\n\u001b[1;32m     81\u001b[0m \u001b[38;5;28;01mexcept\u001b[39;00m \u001b[38;5;167;01mTypeError\u001b[39;00m:\n\u001b[0;32m---> 82\u001b[0m     \u001b[38;5;28;01mraise\u001b[39;00m \u001b[38;5;167;01mTypeError\u001b[39;00m(\u001b[38;5;124m'\u001b[39m\u001b[38;5;124mLocations should be an iterable with coordinate pairs,\u001b[39m\u001b[38;5;124m'\u001b[39m\n\u001b[1;32m     83\u001b[0m                     \u001b[38;5;124m'\u001b[39m\u001b[38;5;124m but instead got \u001b[39m\u001b[38;5;132;01m{!r}\u001b[39;00m\u001b[38;5;124m.\u001b[39m\u001b[38;5;124m'\u001b[39m\u001b[38;5;241m.\u001b[39mformat(locations))\n\u001b[1;32m     84\u001b[0m \u001b[38;5;28;01mtry\u001b[39;00m:\n\u001b[1;32m     85\u001b[0m     \u001b[38;5;28mnext\u001b[39m(\u001b[38;5;28miter\u001b[39m(locations))\n",
      "\u001b[0;31mTypeError\u001b[0m: Locations should be an iterable with coordinate pairs, but instead got <shapely.geometry.polygon.Polygon object at 0x7f0ff8b4ed90>."
     ]
    }
   ],
   "source": [
    "folium.Polygon(P)"
   ]
  }
 ],
 "metadata": {
  "kernelspec": {
   "display_name": "Python 3 (ipykernel)",
   "language": "python",
   "name": "python3"
  },
  "language_info": {
   "codemirror_mode": {
    "name": "ipython",
    "version": 3
   },
   "file_extension": ".py",
   "mimetype": "text/x-python",
   "name": "python",
   "nbconvert_exporter": "python",
   "pygments_lexer": "ipython3",
   "version": "3.8.12"
  }
 },
 "nbformat": 4,
 "nbformat_minor": 5
}
