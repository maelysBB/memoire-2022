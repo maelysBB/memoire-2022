{
 "cells": [
  {
   "cell_type": "code",
   "execution_count": 222,
   "id": "84a97e0e",
   "metadata": {},
   "outputs": [],
   "source": [
    "import re"
   ]
  },
  {
   "cell_type": "code",
   "execution_count": null,
   "id": "4fbaf376",
   "metadata": {},
   "outputs": [],
   "source": [
    "\n",
    "data1 = {'query': {\n",
    "                'bool': {\n",
    "                    'must': [\n",
    "                        {\"nested\": {\n",
    "                        \"path\": \"healthcare\",\n",
    "                        \"query\": {\n",
    "                                \"bool\": {\n",
    "                                \"must\": [\n",
    "                                    { \"match\": { \"healthcare.category\": \"Médecin\" } },\n",
    "                                ]\n",
    "                                }\n",
    "                            }\n",
    "                            }\n",
    "                        },\n",
    "                        {\"nested\": {\n",
    "                        \"path\": \"healthcare\",\n",
    "                        \"query\": {\n",
    "                                \"bool\": {\n",
    "                                \"must\": [\n",
    "                                    { \"match\": { \"healthcare.category\": \"Médecin\" } },\n",
    "                                ]\n",
    "                                }\n",
    "                            }\n",
    "                            }\n",
    "                        }\n",
    "                     \n",
    "                            ]\n",
    "                        }\n",
    "                }\n",
    "         }"
   ]
  },
  {
   "cell_type": "code",
   "execution_count": null,
   "id": "68883a4b",
   "metadata": {},
   "outputs": [],
   "source": [
    "data1 == data"
   ]
  },
  {
   "cell_type": "code",
   "execution_count": 233,
   "id": "302e9557",
   "metadata": {},
   "outputs": [],
   "source": [
    "cat  = [\"healthcare0\", \"healthcare1\", \"healthcare2\", \"charging_station\"]"
   ]
  },
  {
   "cell_type": "code",
   "execution_count": 93,
   "id": "c64ef0fa",
   "metadata": {},
   "outputs": [],
   "source": [
    "item_translator = { \"healthcare0\" : \"Hopital\", \"healthcare1\": \"Pharmacie\", \"healthcare2\": \"Cabinet Médical et Clinique\",\"restaurant1\": \"resto1\", \"restaurant2\": \"resto2\"}\n",
    "\n",
    "def compare(list_of_choices): #x is an array\n",
    "    return [item_translator[x] for x in list_of_choices ]"
   ]
  },
  {
   "cell_type": "code",
   "execution_count": 234,
   "id": "d421e493",
   "metadata": {},
   "outputs": [],
   "source": [
    "item_translator = { \"healthcare0\" : \"Hopital\", \"healthcare1\": \"Pharmacie\", \"healthcare2\": \"Pharmacie\",\"charging_station\": \"charging_station\"}\n",
    "\n",
    "def compare(list_of_choices, word): #x is an array\n",
    "    \n",
    "    return [item_translator[x] for x in list_of_choices if re.search(word, x)]"
   ]
  },
  {
   "cell_type": "code",
   "execution_count": 81,
   "id": "67a537fb",
   "metadata": {},
   "outputs": [],
   "source": []
  },
  {
   "cell_type": "code",
   "execution_count": 227,
   "id": "c94a4b7c",
   "metadata": {},
   "outputs": [
    {
     "data": {
      "text/plain": [
       "{'healthcare': {'number': 3,\n",
       "  'category': ['Hopital', 'Pharmacie', 'Pharmacie']},\n",
       " 'restaurant': {'number': 2, 'category': ['resto1', 'resto2']}}"
      ]
     },
     "execution_count": 227,
     "metadata": {},
     "output_type": "execute_result"
    }
   ],
   "source": [
    "number_of_cat"
   ]
  },
  {
   "cell_type": "code",
   "execution_count": 245,
   "id": "ac9932fd",
   "metadata": {},
   "outputs": [],
   "source": [
    "total_number = {\"healthcare\":4, \"charging_station\": 1}"
   ]
  },
  {
   "cell_type": "code",
   "execution_count": 237,
   "id": "b0cdbcb6",
   "metadata": {},
   "outputs": [],
   "source": [
    "number_of_cat = {\"healthcare\": {\"number\":len(compare(cat, \"healthcare\")), \"category\" : compare(cat, \"healthcare\")}, \"charging_station\": {\"number\": len(compare(cat, \"charging_station\"))}}"
   ]
  },
  {
   "cell_type": "code",
   "execution_count": 238,
   "id": "5aa56ec3",
   "metadata": {},
   "outputs": [
    {
     "data": {
      "text/plain": [
       "{'healthcare': {'number': 3,\n",
       "  'category': ['Hopital', 'Pharmacie', 'Pharmacie']},\n",
       " 'charging_station': {'number': 1}}"
      ]
     },
     "execution_count": 238,
     "metadata": {},
     "output_type": "execute_result"
    }
   ],
   "source": [
    "number_of_cat"
   ]
  },
  {
   "cell_type": "code",
   "execution_count": 241,
   "id": "d0fc0081",
   "metadata": {},
   "outputs": [],
   "source": [
    "data_1 = {}"
   ]
  },
  {
   "cell_type": "code",
   "execution_count": 242,
   "id": "14234731",
   "metadata": {},
   "outputs": [],
   "source": [
    "data_1[\"query\"] = {\"bool\": {\"must\": []}}"
   ]
  },
  {
   "cell_type": "code",
   "execution_count": 246,
   "id": "aa6a95ed",
   "metadata": {
    "scrolled": true
   },
   "outputs": [],
   "source": [
    "for key, value in number_of_cat.items() :\n",
    "    if total_number[key] == value[\"number\"]: ##si l'tuilsateur a choisi tous les lieux du type, on fait une requête existe\n",
    "        to_append = {\"nested\": {\"path\": key ,\"query\": {\"exist\": {\"field\": key}}}} \n",
    "        data_1[\"query\"][\"bool\"][\"must\"].append(to_append)\n",
    "    else:\n",
    "        for cat in value[\"category\"]: ##si l'tuilsateur a choisi certaines catégorie, on fait une query avec must, pour que cela réponde aux différentes catégorie\n",
    "            to_append = {\"nested\": {\"path\": key,\"query\": {\"bool\": {\"must\": [{\"match\": { \"{}.category\".format(key): cat  }}] } }}}\n",
    "            data_1[\"query\"][\"bool\"][\"must\"].append(to_append)"
   ]
  },
  {
   "cell_type": "code",
   "execution_count": 212,
   "id": "cc4923c3",
   "metadata": {},
   "outputs": [
    {
     "data": {
      "text/plain": [
       "{'test.category'}"
      ]
     },
     "execution_count": 212,
     "metadata": {},
     "output_type": "execute_result"
    }
   ],
   "source": [
    "{ \"{}.category\".format(\"test\")}"
   ]
  },
  {
   "cell_type": "code",
   "execution_count": 247,
   "id": "47a3d680",
   "metadata": {},
   "outputs": [
    {
     "data": {
      "text/plain": [
       "{'query': {'bool': {'must': [{'nested': {'path': 'healthcare',\n",
       "      'query': {'exist': {'field': 'healthcare'}}}},\n",
       "    {'nested': {'path': 'charging_station',\n",
       "      'query': {'exist': {'field': 'charging_station'}}}},\n",
       "    {'nested': {'path': 'healthcare',\n",
       "      'query': {'bool': {'must': [{'match': {'healthcare.category': 'Hopital'}}]}}}},\n",
       "    {'nested': {'path': 'healthcare',\n",
       "      'query': {'bool': {'must': [{'match': {'healthcare.category': 'Pharmacie'}}]}}}},\n",
       "    {'nested': {'path': 'healthcare',\n",
       "      'query': {'bool': {'must': [{'match': {'healthcare.category': 'Pharmacie'}}]}}}},\n",
       "    {'nested': {'path': 'charging_station',\n",
       "      'query': {'exist': {'field': 'charging_station'}}}}]}}}"
      ]
     },
     "execution_count": 247,
     "metadata": {},
     "output_type": "execute_result"
    }
   ],
   "source": [
    "data_1"
   ]
  },
  {
   "cell_type": "code",
   "execution_count": null,
   "id": "2b089e24",
   "metadata": {},
   "outputs": [],
   "source": [
    "data = {\n",
    "            \"query\": {\n",
    "                \"nested\": {\n",
    "                \"path\": \"healthcare\",\n",
    "                \"query\": {\n",
    "                            \"exists\": {\n",
    "                                    \"field\": \"healthcare\"\n",
    "                                    }\n",
    "                        }\n",
    "                    }\n",
    "                }\n",
    "            }"
   ]
  },
  {
   "cell_type": "code",
   "execution_count": 148,
   "id": "46b199fb",
   "metadata": {},
   "outputs": [],
   "source": []
  },
  {
   "cell_type": "code",
   "execution_count": 95,
   "id": "b93b6de8",
   "metadata": {},
   "outputs": [
    {
     "data": {
      "text/plain": [
       "['Hopital', 'Pharmacie', 'Pharmacie', 'resto1', 'resto2']"
      ]
     },
     "execution_count": 95,
     "metadata": {},
     "output_type": "execute_result"
    }
   ],
   "source": [
    "compare(cat)"
   ]
  },
  {
   "cell_type": "code",
   "execution_count": 3,
   "id": "bc506291",
   "metadata": {},
   "outputs": [],
   "source": [
    "cat = [\"Hopital\", \"Pharmacie\", \"Cabinet Médical et Clinique\"]"
   ]
  },
  {
   "cell_type": "code",
   "execution_count": 55,
   "id": "5aa807e6",
   "metadata": {},
   "outputs": [],
   "source": [
    "dictionnary_elastic = [{\"nested\": {\"path\": \"healthcare\",\"query\": {\"bool\": {\"must\": [{\"match\": { \"healthcare.category\": c }}] } }}} for c in cat]                    "
   ]
  },
  {
   "cell_type": "code",
   "execution_count": 56,
   "id": "0b3fbaad",
   "metadata": {},
   "outputs": [],
   "source": [
    "dictionnary_elastic_2 = [{\"nested\": {\"path\": \"healthcare\",\"query\": {\"exist\": {\"field\": \"healthcare\"}}}} for c in cat ]                    "
   ]
  },
  {
   "cell_type": "code",
   "execution_count": 57,
   "id": "e3852025",
   "metadata": {},
   "outputs": [
    {
     "data": {
      "text/plain": [
       "[{'nested': {'path': 'healthcare',\n",
       "   'query': {'exist': {'field': 'healthcare'}}}},\n",
       " {'nested': {'path': 'healthcare',\n",
       "   'query': {'exist': {'field': 'healthcare'}}}},\n",
       " {'nested': {'path': 'healthcare',\n",
       "   'query': {'exist': {'field': 'healthcare'}}}},\n",
       " {'nested': {'path': 'healthcare',\n",
       "   'query': {'exist': {'field': 'healthcare'}}}}]"
      ]
     },
     "execution_count": 57,
     "metadata": {},
     "output_type": "execute_result"
    }
   ],
   "source": [
    "dictionnary_elastic_2"
   ]
  },
  {
   "cell_type": "code",
   "execution_count": 67,
   "id": "252e367d",
   "metadata": {},
   "outputs": [],
   "source": [
    "data = {}"
   ]
  },
  {
   "cell_type": "code",
   "execution_count": 69,
   "id": "cce4396b",
   "metadata": {},
   "outputs": [],
   "source": [
    "data[\"query\"] = {\"bool\": {\"must\": dictionnary_elastic}}"
   ]
  },
  {
   "cell_type": "code",
   "execution_count": 70,
   "id": "a7f2d969",
   "metadata": {},
   "outputs": [
    {
     "data": {
      "text/plain": [
       "[]"
      ]
     },
     "execution_count": 70,
     "metadata": {},
     "output_type": "execute_result"
    }
   ],
   "source": [
    "data[\"query\"][\"bool\"][\"must\"]"
   ]
  },
  {
   "cell_type": "code",
   "execution_count": 54,
   "id": "73e722a6",
   "metadata": {},
   "outputs": [
    {
     "data": {
      "text/plain": [
       "[{'nested': {'path': 'healthcare',\n",
       "   'query': {'bool': {'must': [{'match': {'healthcare.category': 'Hopital'}}]}}}},\n",
       " {'nested': {'path': 'healthcare',\n",
       "   'query': {'bool': {'must': [{'match': {'healthcare.category': 'Pharmacie'}}]}}}},\n",
       " {'nested': {'path': 'healthcare',\n",
       "   'query': {'bool': {'must': [{'match': {'healthcare.category': 'Cabinet Médical et Clinique'}}]}}}}]"
      ]
     },
     "execution_count": 54,
     "metadata": {},
     "output_type": "execute_result"
    }
   ],
   "source": [
    "dictionnary_elastic"
   ]
  },
  {
   "cell_type": "code",
   "execution_count": 15,
   "id": "b291d862",
   "metadata": {
    "scrolled": true
   },
   "outputs": [
    {
     "data": {
      "text/plain": [
       "[0]"
      ]
     },
     "execution_count": 15,
     "metadata": {},
     "output_type": "execute_result"
    }
   ],
   "source": []
  },
  {
   "cell_type": "code",
   "execution_count": null,
   "id": "7de98953",
   "metadata": {
    "scrolled": true
   },
   "outputs": [],
   "source": [
    "list_of_choices"
   ]
  },
  {
   "cell_type": "code",
   "execution_count": null,
   "id": "e48d01e9",
   "metadata": {},
   "outputs": [],
   "source": [
    "for element in list_of_choices :\n",
    "    print(element)"
   ]
  },
  {
   "cell_type": "code",
   "execution_count": null,
   "id": "19a2f683",
   "metadata": {},
   "outputs": [],
   "source": [
    "list_of_choices = [{\"health\" : {\"name\": \"Etablissement de santé\", \"category\" : [\"Clinique\", \"Pharmacie\", \"Hopitaux\"]}}, {\"restaurant\" : {\"name\": \"Restaurant\", \"category\" : [\"Clinique\", \"Pharmacie\", \"Hopitaux\"]}}]"
   ]
  },
  {
   "cell_type": "code",
   "execution_count": null,
   "id": "2e190d4a",
   "metadata": {},
   "outputs": [],
   "source": [
    "list_of_choices = {\"health\" : {\"name\": \"Etablissement de santé\", \"category\" : [\"Clinique\", \"Pharmacie\", \"Hopitaux\"]}, \"restaurant\" : {\"name\": \"Restaurant\", \"category\" : [\"Clinique\", \"Pharmacie\", \"Hopitaux\"]}}"
   ]
  },
  {
   "cell_type": "code",
   "execution_count": null,
   "id": "fa510059",
   "metadata": {},
   "outputs": [],
   "source": [
    "test = {\"ha\":\"b\"}"
   ]
  },
  {
   "cell_type": "code",
   "execution_count": null,
   "id": "7370ed65",
   "metadata": {},
   "outputs": [],
   "source": [
    "for key, value in list_of_choices.items(): \n",
    "    print(key)\n",
    "    for key, value in value.items(): \n",
    "        print(key)"
   ]
  },
  {
   "cell_type": "code",
   "execution_count": null,
   "id": "723bdd8b",
   "metadata": {},
   "outputs": [],
   "source": [
    "list_of_choices[\"restaurant\"]"
   ]
  }
 ],
 "metadata": {
  "kernelspec": {
   "display_name": "Python 3 (ipykernel)",
   "language": "python",
   "name": "python3"
  },
  "language_info": {
   "codemirror_mode": {
    "name": "ipython",
    "version": 3
   },
   "file_extension": ".py",
   "mimetype": "text/x-python",
   "name": "python",
   "nbconvert_exporter": "python",
   "pygments_lexer": "ipython3",
   "version": "3.8.12"
  }
 },
 "nbformat": 4,
 "nbformat_minor": 5
}
